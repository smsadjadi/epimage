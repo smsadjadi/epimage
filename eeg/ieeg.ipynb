{
 "cells": [
  {
   "cell_type": "markdown",
   "id": "87970855",
   "metadata": {},
   "source": [
    "# iEEG Source‑Estimation Pipeline\n",
    "\n",
    "Walk‑through with **OpenNeuro dataset `ds003848` (subject `sub‑RESP0521`)**.\n",
    "\n",
    "This notebook demonstrates **each function** in the pipeline script you are working on. Run the cells sequentially; every step is self‑contained and heavily commented to make the logic clear."
   ]
  },
  {
   "cell_type": "markdown",
   "id": "b8bfde8f",
   "metadata": {},
   "source": [
    "## 0. Set‑up\n",
    "\n",
    "*If you are running this on Colab or a fresh environment, uncomment the next cell to install dependencies*."
   ]
  },
  {
   "cell_type": "code",
   "execution_count": 1,
   "id": "fe2a7ae8",
   "metadata": {},
   "outputs": [],
   "source": [
    "# !pip install --quiet mne nibabel nilearn openneuro-py pandas numpy"
   ]
  },
  {
   "cell_type": "code",
   "execution_count": 2,
   "id": "80bf8e36",
   "metadata": {},
   "outputs": [
    {
     "name": "stderr",
     "output_type": "stream",
     "text": [
      "/home/sms/.pyenv/versions/nrimg/lib/python3.12/site-packages/tqdm/auto.py:21: TqdmWarning: IProgress not found. Please update jupyter and ipywidgets. See https://ipywidgets.readthedocs.io/en/stable/user_install.html\n",
      "  from .autonotebook import tqdm as notebook_tqdm\n"
     ]
    },
    {
     "name": "stdout",
     "output_type": "stream",
     "text": [
      "MNE version: 1.10.0\n"
     ]
    }
   ],
   "source": [
    "import os\n",
    "import mne\n",
    "import numpy as np\n",
    "import pandas as pd\n",
    "import nibabel as nib\n",
    "from pathlib import Path\n",
    "from nilearn import plotting\n",
    "from openneuro import download\n",
    "\n",
    "from esi import (\n",
    "    PipelineConfig,\n",
    "    load_raw,\n",
    "    load_electrodes,\n",
    "    set_montage_and_types,\n",
    "    make_subject_id,\n",
    "    build_forward_model,\n",
    "    create_evoked_or_epochs,\n",
    "    estimate_sources,\n",
    "    save_nifti,\n",
    ")\n",
    "\n",
    "print(\"MNE version:\", mne.__version__)\n"
   ]
  },
  {
   "cell_type": "markdown",
   "id": "8d417473",
   "metadata": {},
   "source": [
    "## 1. Download sample data from OpenNeuro\n",
    "\n",
    "We will grab **one session** (`ses‑1`) of `sub‑RESP0521`.\n",
    "Download only the iEEG recording (`.vhdr/.eeg/.vmrk`), the electrodes table, and the T1‑weighted MRI.\n",
    "\n",
    "If you already have these files locally, point `dataset_dir` to that directory and skip the download."
   ]
  },
  {
   "cell_type": "code",
   "execution_count": 3,
   "id": "bfcb0544",
   "metadata": {},
   "outputs": [
    {
     "data": {
      "text/plain": [
       "'/home/sms/Github/epimage/eeg'"
      ]
     },
     "execution_count": 3,
     "metadata": {},
     "output_type": "execute_result"
    }
   ],
   "source": [
    "dataset_dir = Path(\"/home/sms/Github/datasets/ieeg\")\n",
    "root_dir = Path(\"/home/sms/Github/epimage/eeg\")\n",
    "\n",
    "dataset_dir.mkdir(parents=True, exist_ok=True)\n",
    "os.getcwd()"
   ]
  },
  {
   "cell_type": "code",
   "execution_count": 4,
   "id": "09082e62",
   "metadata": {},
   "outputs": [],
   "source": [
    "dataset_id = \"ds003848\"\n",
    "sub = \"sub-RESP0521\"\n",
    "ses = \"ses-1\"\n",
    "\n",
    "# # Download (Method 1)\n",
    "# download(\n",
    "#     dataset=dataset_id,\n",
    "#     target_dir=dataset_dir,\n",
    "#     include=[\n",
    "#         \"sub-RESP0521/ses-1/ieeg/*_ieeg.vhdr\",\n",
    "#         \"sub-RESP0521/ses-1/ieeg/*_ieeg.eeg\",\n",
    "#         \"sub-RESP0521/ses-1/ieeg/*_ieeg.vmrk\",\n",
    "#         \"sub-RESP0521/ses-1/ieeg/sub-RESP0521_ses-1_electrodes.tsv\",\n",
    "#         \"sub-RESP0521/anat/sub-RESP0521_T1w.nii.gz\",\n",
    "#     ]\n",
    "# )\n",
    "\n",
    "# # Download (Method 2)\n",
    "# %cd $dataset_dir\n",
    "# ! openneuro-py download --dataset=$dataset_id --include=sub-RESP0521\n",
    "# %cd $root_dir\n"
   ]
  },
  {
   "cell_type": "markdown",
   "id": "27a9bf35",
   "metadata": {},
   "source": [
    "### Define paths"
   ]
  },
  {
   "cell_type": "code",
   "execution_count": 5,
   "id": "b39fda44",
   "metadata": {},
   "outputs": [
    {
     "name": "stdout",
     "output_type": "stream",
     "text": [
      "iEEG file : /home/sms/Github/datasets/ieeg/ds003848/sub-RESP0521/ses-1/ieeg/sub-RESP0521_ses-1_task-Sleep_run-060307_ieeg.vhdr\n",
      "Electrodes: /home/sms/Github/datasets/ieeg/ds003848/sub-RESP0521/ses-1/ieeg/sub-RESP0521_ses-1_electrodes.tsv\n",
      "T1 MRI    : /home/sms/Github/datasets/ieeg/ds003848/sub-RESP0521/ses-1/anat/sub-RESP0521_ses-1_rec-deface_T1w.nii\n"
     ]
    }
   ],
   "source": [
    "subjects_dir = dataset_dir / dataset_id # / sub\n",
    "ieeg_file = next((subjects_dir / sub / ses / \"ieeg\").glob(\"*_ieeg.vhdr\"))\n",
    "electrodes_tsv = subjects_dir / sub / ses / \"ieeg\" / f\"{sub}_{ses}_electrodes.tsv\"\n",
    "mri_path = next((subjects_dir / sub / ses / \"anat\").glob(\"*_T1w.nii\"))\n",
    "\n",
    "print(\"iEEG file :\", ieeg_file)\n",
    "print(\"Electrodes:\", electrodes_tsv)\n",
    "print(\"T1 MRI    :\", mri_path)\n",
    "\n",
    "mne.utils.set_config(\"SUBJECTS_DIR\", subjects_dir, set_env=True)\n"
   ]
  },
  {
   "cell_type": "markdown",
   "id": "1bff0116",
   "metadata": {},
   "source": [
    "## 2. Prepare electrodes CSV (x,y,z,name,type)\n",
    "The pipeline expects **comma‑separated** values with at least `x,y,z`."
   ]
  },
  {
   "cell_type": "code",
   "execution_count": 6,
   "id": "a0fa4dec",
   "metadata": {},
   "outputs": [
    {
     "name": "stdout",
     "output_type": "stream",
     "text": [
      "Saved CSV to /home/sms/Github/datasets/ieeg/ds003848/sub-RESP0521/ses-1/ieeg/sub-RESP0521_ses-1_electrodes.csv\n"
     ]
    }
   ],
   "source": [
    "csv_path = electrodes_tsv.with_suffix('.csv')\n",
    "df = pd.read_csv(electrodes_tsv, sep='\\t')\n",
    "# Keep only good rows where x/y/z are finite\n",
    "df_valid = df[np.isfinite(df['x']) & np.isfinite(df['y']) & np.isfinite(df['z'])]\n",
    "cols = ['name', 'x', 'y', 'z']\n",
    "if 'hemisphere' in df_valid.columns:\n",
    "    cols.append('hemisphere')  # example extra col\n",
    "df_valid[cols].to_csv(csv_path, index=False)\n",
    "print(\"Saved CSV to\", csv_path)"
   ]
  },
  {
   "cell_type": "markdown",
   "id": "00924405",
   "metadata": {},
   "source": [
    "## 3. Create a `PipelineConfig`"
   ]
  },
  {
   "cell_type": "code",
   "execution_count": 7,
   "id": "ad880c28",
   "metadata": {},
   "outputs": [
    {
     "data": {
      "text/plain": [
       "PipelineConfig(ieeg_path=PosixPath('/home/sms/Github/datasets/ieeg/ds003848/sub-RESP0521/ses-1/ieeg/sub-RESP0521_ses-1_task-Sleep_run-060307_ieeg.vhdr'), electrodes_path=PosixPath('/home/sms/Github/datasets/ieeg/ds003848/sub-RESP0521/ses-1/ieeg/sub-RESP0521_ses-1_electrodes.csv'), mri_path=PosixPath('/home/sms/Github/datasets/ieeg/ds003848/sub-RESP0521/ses-1/anat/sub-RESP0521_ses-1_rec-deface_T1w.nii'), subjects_dir=PosixPath('/home/sms/Github/datasets/ieeg/ds003848'), spacing_mm=6.0, inverse_method='dSPM', snr=3.0, time_window=(0, 30), loose=0.2, depth=0.8, out_file=PosixPath('ieeg_sources_z.nii.gz'), verbose=False, coord_units='mm', keep_time=False, to_mni=True)"
      ]
     },
     "execution_count": 7,
     "metadata": {},
     "output_type": "execute_result"
    }
   ],
   "source": [
    "cfg = PipelineConfig(\n",
    "    ieeg_path=ieeg_file,\n",
    "    electrodes_path=csv_path,\n",
    "    mri_path=mri_path,\n",
    "    subjects_dir=subjects_dir,      # fall back to fsaverage + spherical head‑model\n",
    "    spacing_mm=6.0,\n",
    "    inverse_method=\"dSPM\",\n",
    "    snr=3.0,\n",
    "    time_window=(0, 30),        # first 30 s as example\n",
    "    coord_units=\"mm\",           # TSV provides mm\n",
    "    keep_time=False,\n",
    "    to_mni=True,                # morph to fsaverage/MNI\n",
    "    verbose=False,\n",
    ")\n",
    "cfg"
   ]
  },
  {
   "cell_type": "markdown",
   "id": "59cdbc60",
   "metadata": {},
   "source": [
    "### 3.1 `load_raw`"
   ]
  },
  {
   "cell_type": "code",
   "execution_count": 8,
   "id": "8c5cf8fe",
   "metadata": {},
   "outputs": [
    {
     "name": "stderr",
     "output_type": "stream",
     "text": [
      "2025-07-18 20:13:11,062 — INFO — Loading raw data → /home/sms/Github/datasets/ieeg/ds003848/sub-RESP0521/ses-1/ieeg/sub-RESP0521_ses-1_task-Sleep_run-060307_ieeg.vhdr\n"
     ]
    },
    {
     "name": "stdout",
     "output_type": "stream",
     "text": [
      "<RawBrainVision | sub-RESP0521_ses-1_task-Sleep_run-060307_ieeg.eeg, 133 x 963991 (1882.8 s), ~978.3 MiB, data loaded>\n",
      "Data shape: (133, 963991)\n"
     ]
    }
   ],
   "source": [
    "raw = load_raw(cfg)\n",
    "print(raw)\n",
    "print(\"Data shape:\", raw.get_data().shape)"
   ]
  },
  {
   "cell_type": "code",
   "execution_count": 9,
   "id": "36a103c3",
   "metadata": {},
   "outputs": [
    {
     "data": {
      "text/html": [
       "<script type=\"text/javascript\">\n",
       "    // must be `var` (not `const`) because this can get embedded multiple times on a page\n",
       "var toggleVisibility = (className) => {\n",
       "\n",
       "    const elements = document.querySelectorAll(`.${className}`);\n",
       "\n",
       "    elements.forEach(element => {\n",
       "        if (element.classList.contains(\"mne-repr-section-header\")) {\n",
       "            return  // Don't collapse the section header row\n",
       "        }\n",
       "        element.classList.toggle(\"mne-repr-collapsed\");\n",
       "    });\n",
       "\n",
       "    // trigger caret to rotate\n",
       "    var sel = `.mne-repr-section-header.${className} > th.mne-repr-section-toggle > button`;\n",
       "    const button = document.querySelector(sel);\n",
       "    button.classList.toggle(\"collapsed\");\n",
       "\n",
       "    // adjust tooltip\n",
       "    sel = `tr.mne-repr-section-header.${className}`;\n",
       "    const secHeadRow = document.querySelector(sel);\n",
       "    secHeadRow.classList.toggle(\"collapsed\");\n",
       "    secHeadRow.title = secHeadRow.title === \"Hide section\" ? \"Show section\" : \"Hide section\";\n",
       "}\n",
       "</script>\n",
       "\n",
       "<style type=\"text/css\">\n",
       "    /*\n",
       "Styles in this section apply both to the sphinx-built website docs and to notebooks\n",
       "rendered in an IDE or in Jupyter. In our web docs, styles here are complemented by\n",
       "doc/_static/styles.css and other CSS files (e.g. from the sphinx theme, sphinx-gallery,\n",
       "or bootstrap). In IDEs/Jupyter, those style files are unavailable, so only the rules in\n",
       "this file apply (plus whatever default styling the IDE applies).\n",
       "*/\n",
       ".mne-repr-table {\n",
       "    display: inline;  /* prevent using full container width */\n",
       "}\n",
       ".mne-repr-table tr.mne-repr-section-header > th {\n",
       "    padding-top: 1rem;\n",
       "    text-align: left;\n",
       "    vertical-align: middle;\n",
       "}\n",
       ".mne-repr-section-toggle > button {\n",
       "    all: unset;\n",
       "    display: block;\n",
       "    height: 1rem;\n",
       "    width: 1rem;\n",
       "}\n",
       ".mne-repr-section-toggle > button > svg {\n",
       "    height: 60%;\n",
       "}\n",
       "\n",
       "/* transition (rotation) effects on the collapser button */\n",
       ".mne-repr-section-toggle > button.collapsed > svg {\n",
       "    transition: 0.1s ease-out;\n",
       "    transform: rotate(-90deg);\n",
       "}\n",
       ".mne-repr-section-toggle > button:not(.collapsed) > svg {\n",
       "    transition: 0.1s ease-out;\n",
       "    transform: rotate(0deg);\n",
       "}\n",
       "\n",
       "/* hide collapsed table rows */\n",
       ".mne-repr-collapsed {\n",
       "    display: none;\n",
       "}\n",
       "\n",
       "\n",
       "@layer {\n",
       "    /*\n",
       "    Selectors in a `@layer` will always be lower-precedence than selectors outside the\n",
       "    layer. So even though e.g. `div.output_html` is present in the sphinx-rendered\n",
       "    website docs, the styles here won't take effect there as long as some other rule\n",
       "    somewhere in the page's CSS targets the same element.\n",
       "\n",
       "    In IDEs or Jupyter notebooks, though, the CSS files from the sphinx theme,\n",
       "    sphinx-gallery, and bootstrap are unavailable, so these styles will apply.\n",
       "\n",
       "    Notes:\n",
       "\n",
       "    - the selector `.accordion-body` is for MNE Reports\n",
       "    - the selector `.output_html` is for VSCode's notebook interface\n",
       "    - the selector `.jp-RenderedHTML` is for Jupyter notebook\n",
       "    - variables starting with `--theme-` are VSCode-specific.\n",
       "    - variables starting with `--jp-` are Jupyter styles, *some of which* are also\n",
       "      available in VSCode. Here we try the `--theme-` variable first, then fall back to\n",
       "      the `--jp-` ones.\n",
       "    */\n",
       "    .mne-repr-table {\n",
       "        --mne-toggle-color: var(--theme-foreground, var(--jp-ui-font-color1));\n",
       "        --mne-button-bg-color: var(--theme-button-background, var(--jp-info-color0, var(--jp-content-link-color)));\n",
       "        --mne-button-fg-color: var(--theme-button-foreground, var(--jp-ui-inverse-font-color0, var(--jp-editor-background)));\n",
       "        --mne-button-hover-bg-color: var(--theme-button-hover-background, var(--jp-info-color1));\n",
       "        --mne-button-radius: var(--jp-border-radius, 0.25rem);\n",
       "    }\n",
       "    /* chevron position/alignment; in VSCode it looks ok without adjusting */\n",
       "    .accordion-body .mne-repr-section-toggle > button,\n",
       "    .jp-RenderedHTML .mne-repr-section-toggle > button {\n",
       "        padding: 0 0 45% 25% !important;\n",
       "    }\n",
       "    /* chevron color; MNE Report doesn't have light/dark mode */\n",
       "    div.output_html .mne-repr-section-toggle > button > svg > path,\n",
       "    .jp-RenderedHTML .mne-repr-section-toggle > button > svg > path {\n",
       "        fill: var(--mne-toggle-color);\n",
       "    }\n",
       "    .accordion-body .mne-ch-names-btn,\n",
       "    div.output_html .mne-ch-names-btn,\n",
       "    .jp-RenderedHTML .mne-ch-names-btn {\n",
       "        -webkit-border-radius: var(--mne-button-radius);\n",
       "        -moz-border-radius: var(--mne-button-radius);\n",
       "        border-radius: var(--mne-button-radius);\n",
       "        border: none;\n",
       "        background-image: none;\n",
       "        background-color: var(--mne-button-bg-color);\n",
       "        color: var(--mne-button-fg-color);\n",
       "        font-size: inherit;\n",
       "        min-width: 1.5rem;\n",
       "        padding: 0.25rem;\n",
       "        text-align: center;\n",
       "        text-decoration: none;\n",
       "    }\n",
       "    .accordion-body .mne-ch-names-btn:hover,\n",
       "    div.output_html .mne.ch-names-btn:hover,\n",
       "    .jp-RenderedHTML .mne-ch-names-btn:hover {\n",
       "        background-color: var(--mne-button-hover-bg-color);\n",
       "        text-decoration: underline;\n",
       "    }\n",
       "    .accordion-body .mne-ch-names-btn:focus-visible,\n",
       "    div.output_html .mne-ch-names-btn:focus-visible,\n",
       "    .jp-RenderedHTML .mne-ch-names-btn:focus-visible {\n",
       "        outline: 0.1875rem solid var(--mne-button-bg-color) !important;\n",
       "        outline-offset: 0.1875rem !important;\n",
       "    }\n",
       "}\n",
       "</style>\n",
       "\n",
       "\n",
       "\n",
       "<table class=\"table mne-repr-table\">\n",
       "    \n",
       "\n",
       "\n",
       "\n",
       "\n",
       "\n",
       "\n",
       "\n",
       "<tr class=\"mne-repr-section-header general-c913207e-f0fa-4183-926d-b7ebff215af5\"\n",
       "     title=\"Hide section\" \n",
       "    onclick=\"toggleVisibility('general-c913207e-f0fa-4183-926d-b7ebff215af5')\">\n",
       "    <th class=\"mne-repr-section-toggle\">\n",
       "        <button >\n",
       "            <svg xmlns=\"http://www.w3.org/2000/svg\" viewBox=\"0 0 512 512\"><!--!Font Awesome Free 6.6.0 by @fontawesome - https://fontawesome.com License - https://fontawesome.com/license/free Copyright 2024 Fonticons, Inc.--><path d=\"M233.4 406.6c12.5 12.5 32.8 12.5 45.3 0l192-192c12.5-12.5 12.5-32.8 0-45.3s-32.8-12.5-45.3 0L256 338.7 86.6 169.4c-12.5-12.5-32.8-12.5-45.3 0s-12.5 32.8 0 45.3l192 192z\"/></svg>\n",
       "        </button>\n",
       "    </th>\n",
       "    <th colspan=\"2\">\n",
       "        <strong>General</strong>\n",
       "    </th>\n",
       "</tr>\n",
       "\n",
       "\n",
       "<tr class=\"repr-element general-c913207e-f0fa-4183-926d-b7ebff215af5 \">\n",
       "    <td class=\"mne-repr-section-toggle\"></td>\n",
       "    <td>Filename(s)</td>\n",
       "    <td>\n",
       "        \n",
       "        sub-RESP0521_ses-1_task-Sleep_run-060307_ieeg.eeg\n",
       "        \n",
       "        \n",
       "    </td>\n",
       "</tr>\n",
       "\n",
       "<tr class=\"repr-element general-c913207e-f0fa-4183-926d-b7ebff215af5 \">\n",
       "    <td class=\"mne-repr-section-toggle\"></td>\n",
       "    <td>MNE object type</td>\n",
       "    <td>RawBrainVision</td>\n",
       "</tr>\n",
       "<tr class=\"repr-element general-c913207e-f0fa-4183-926d-b7ebff215af5 \">\n",
       "    <td class=\"mne-repr-section-toggle\"></td>\n",
       "    <td>Measurement date</td>\n",
       "    \n",
       "    <td>Unknown</td>\n",
       "    \n",
       "</tr>\n",
       "<tr class=\"repr-element general-c913207e-f0fa-4183-926d-b7ebff215af5 \">\n",
       "    <td class=\"mne-repr-section-toggle\"></td>\n",
       "    <td>Participant</td>\n",
       "    \n",
       "    <td>Unknown</td>\n",
       "    \n",
       "</tr>\n",
       "<tr class=\"repr-element general-c913207e-f0fa-4183-926d-b7ebff215af5 \">\n",
       "    <td class=\"mne-repr-section-toggle\"></td>\n",
       "    <td>Experimenter</td>\n",
       "    \n",
       "    <td>Unknown</td>\n",
       "    \n",
       "</tr>\n",
       "    \n",
       "\n",
       "\n",
       "\n",
       "\n",
       "\n",
       "\n",
       "\n",
       "<tr class=\"mne-repr-section-header acquisition-66754e25-384b-4534-bec5-63a82171ada0\"\n",
       "     title=\"Hide section\" \n",
       "    onclick=\"toggleVisibility('acquisition-66754e25-384b-4534-bec5-63a82171ada0')\">\n",
       "    <th class=\"mne-repr-section-toggle\">\n",
       "        <button >\n",
       "            <svg xmlns=\"http://www.w3.org/2000/svg\" viewBox=\"0 0 512 512\"><!--!Font Awesome Free 6.6.0 by @fontawesome - https://fontawesome.com License - https://fontawesome.com/license/free Copyright 2024 Fonticons, Inc.--><path d=\"M233.4 406.6c12.5 12.5 32.8 12.5 45.3 0l192-192c12.5-12.5 12.5-32.8 0-45.3s-32.8-12.5-45.3 0L256 338.7 86.6 169.4c-12.5-12.5-32.8-12.5-45.3 0s-12.5 32.8 0 45.3l192 192z\"/></svg>\n",
       "        </button>\n",
       "    </th>\n",
       "    <th colspan=\"2\">\n",
       "        <strong>Acquisition</strong>\n",
       "    </th>\n",
       "</tr>\n",
       "\n",
       "\n",
       "<tr class=\"repr-element acquisition-66754e25-384b-4534-bec5-63a82171ada0 \">\n",
       "    <td class=\"mne-repr-section-toggle\"></td>\n",
       "    <td>Duration</td>\n",
       "    <td>00:31:23 (HH:MM:SS)</td>\n",
       "</tr>\n",
       "\n",
       "\n",
       "\n",
       "\n",
       "\n",
       "\n",
       "\n",
       "\n",
       "<tr class=\"repr-element acquisition-66754e25-384b-4534-bec5-63a82171ada0 \">\n",
       "    <td class=\"mne-repr-section-toggle\"></td>\n",
       "    <td>Sampling frequency</td>\n",
       "    <td>512.00 Hz</td>\n",
       "</tr>\n",
       "\n",
       "\n",
       "<tr class=\"repr-element acquisition-66754e25-384b-4534-bec5-63a82171ada0 \">\n",
       "    <td class=\"mne-repr-section-toggle\"></td>\n",
       "    <td>Time points</td>\n",
       "    <td>963,991</td>\n",
       "</tr>\n",
       "\n",
       "\n",
       "    \n",
       "\n",
       "\n",
       "\n",
       "\n",
       "\n",
       "\n",
       "\n",
       "<tr class=\"mne-repr-section-header channels-6ea63d80-be3a-4703-995d-87ce33721af0\"\n",
       "     title=\"Hide section\" \n",
       "    onclick=\"toggleVisibility('channels-6ea63d80-be3a-4703-995d-87ce33721af0')\">\n",
       "    <th class=\"mne-repr-section-toggle\">\n",
       "        <button >\n",
       "            <svg xmlns=\"http://www.w3.org/2000/svg\" viewBox=\"0 0 512 512\"><!--!Font Awesome Free 6.6.0 by @fontawesome - https://fontawesome.com License - https://fontawesome.com/license/free Copyright 2024 Fonticons, Inc.--><path d=\"M233.4 406.6c12.5 12.5 32.8 12.5 45.3 0l192-192c12.5-12.5 12.5-32.8 0-45.3s-32.8-12.5-45.3 0L256 338.7 86.6 169.4c-12.5-12.5-32.8-12.5-45.3 0s-12.5 32.8 0 45.3l192 192z\"/></svg>\n",
       "        </button>\n",
       "    </th>\n",
       "    <th colspan=\"2\">\n",
       "        <strong>Channels</strong>\n",
       "    </th>\n",
       "</tr>\n",
       "\n",
       "\n",
       "    \n",
       "<tr class=\"repr-element channels-6ea63d80-be3a-4703-995d-87ce33721af0 \">\n",
       "    <td class=\"mne-repr-section-toggle\"></td>\n",
       "    <td>EEG</td>\n",
       "    <td>\n",
       "        <button class=\"mne-ch-names-btn sd-sphinx-override sd-btn sd-btn-info sd-text-wrap sd-shadow-sm\" onclick=\"alert('Good EEG:\\n\\nC01, C02, C03, C04, C05, C06, C07, C08, C09, C10, C11, C12, C13, C14, C15, C16, C17, C18, C19, C20, C21, C22, C23, C24, C25, C26, C27, C28, C29, C30, C31, C32, CH01, CH02, CH03, CH04, CH05, CH06, CH07, CH08, CH09, CH10, CH11, CH12, CH13, CH14, CH15, CH16, IHa1, IHa2, IHa3, IHa4, IHa5, IHa6, IHa7, IHa8, IHv1, IHv2, IHv3, IHv4, IHv5, IHv6, IHv7, IHv8, MKR1+, el065, el066, el067, el068, el069, el070, el071, el072, el073, el074, el075, el076, el077, el078, el079, el080, el081, el082, el083, el084, el085, el086, el087, el088, AH+, ECG+, orb+, emg1+, emg2+, el094, el095, el096, el097, el098, el099, el100, el101, el102, el103, el104, el105, el106, el107, el108, el109, el110, el111, el112, el113, el114, el115, el116, el117, el118, el119, el120, el121, el122, el123, el124, el125, el126, el127, el128, thor+, abdo+, xyz+, MKR2+')\" title=\"(Click to open in popup)&#13;&#13;C01, C02, C03, C04, C05, C06, C07, C08, C09, C10, C11, C12, C13, C14, C15, C16, C17, C18, C19, C20, C21, C22, C23, C24, C25, C26, C27, C28, C29, C30, C31, C32, CH01, CH02, CH03, CH04, CH05, CH06, CH07, CH08, CH09, CH10, CH11, CH12, CH13, CH14, CH15, CH16, IHa1, IHa2, IHa3, IHa4, IHa5, IHa6, IHa7, IHa8, IHv1, IHv2, IHv3, IHv4, IHv5, IHv6, IHv7, IHv8, MKR1+, el065, el066, el067, el068, el069, el070, el071, el072, el073, el074, el075, el076, el077, el078, el079, el080, el081, el082, el083, el084, el085, el086, el087, el088, AH+, ECG+, orb+, emg1+, emg2+, el094, el095, el096, el097, el098, el099, el100, el101, el102, el103, el104, el105, el106, el107, el108, el109, el110, el111, el112, el113, el114, el115, el116, el117, el118, el119, el120, el121, el122, el123, el124, el125, el126, el127, el128, thor+, abdo+, xyz+, MKR2+\">\n",
       "            133\n",
       "        </button>\n",
       "\n",
       "        \n",
       "    </td>\n",
       "</tr>\n",
       "\n",
       "\n",
       "<tr class=\"repr-element channels-6ea63d80-be3a-4703-995d-87ce33721af0 \">\n",
       "    <td class=\"mne-repr-section-toggle\"></td>\n",
       "    <td>Head & sensor digitization</td>\n",
       "    \n",
       "    <td>Not available</td>\n",
       "    \n",
       "</tr>\n",
       "    \n",
       "\n",
       "\n",
       "\n",
       "\n",
       "\n",
       "\n",
       "\n",
       "<tr class=\"mne-repr-section-header filters-bc4fdcbb-98d9-4b42-b302-fc2f48b190a6\"\n",
       "     title=\"Hide section\" \n",
       "    onclick=\"toggleVisibility('filters-bc4fdcbb-98d9-4b42-b302-fc2f48b190a6')\">\n",
       "    <th class=\"mne-repr-section-toggle\">\n",
       "        <button >\n",
       "            <svg xmlns=\"http://www.w3.org/2000/svg\" viewBox=\"0 0 512 512\"><!--!Font Awesome Free 6.6.0 by @fontawesome - https://fontawesome.com License - https://fontawesome.com/license/free Copyright 2024 Fonticons, Inc.--><path d=\"M233.4 406.6c12.5 12.5 32.8 12.5 45.3 0l192-192c12.5-12.5 12.5-32.8 0-45.3s-32.8-12.5-45.3 0L256 338.7 86.6 169.4c-12.5-12.5-32.8-12.5-45.3 0s-12.5 32.8 0 45.3l192 192z\"/></svg>\n",
       "        </button>\n",
       "    </th>\n",
       "    <th colspan=\"2\">\n",
       "        <strong>Filters</strong>\n",
       "    </th>\n",
       "</tr>\n",
       "\n",
       "\n",
       "<tr class=\"repr-element filters-bc4fdcbb-98d9-4b42-b302-fc2f48b190a6 \">\n",
       "    <td class=\"mne-repr-section-toggle\"></td>\n",
       "    <td>Highpass</td>\n",
       "    <td>0.00 Hz</td>\n",
       "</tr>\n",
       "\n",
       "\n",
       "<tr class=\"repr-element filters-bc4fdcbb-98d9-4b42-b302-fc2f48b190a6 \">\n",
       "    <td class=\"mne-repr-section-toggle\"></td>\n",
       "    <td>Lowpass</td>\n",
       "    <td>256.00 Hz</td>\n",
       "</tr>\n",
       "\n",
       "\n",
       "</table>"
      ],
      "text/plain": [
       "<RawBrainVision | sub-RESP0521_ses-1_task-Sleep_run-060307_ieeg.eeg, 133 x 963991 (1882.8 s), ~978.3 MiB, data loaded>"
      ]
     },
     "execution_count": 9,
     "metadata": {},
     "output_type": "execute_result"
    }
   ],
   "source": [
    "raw"
   ]
  },
  {
   "cell_type": "code",
   "execution_count": 10,
   "id": "c8204c40",
   "metadata": {},
   "outputs": [],
   "source": [
    "# raw.set_channel_types({name: \"seeg\" or \"ecog\"})\n",
    "# raw.pick_types(eeg=True)  "
   ]
  },
  {
   "cell_type": "markdown",
   "id": "7fc53537",
   "metadata": {},
   "source": [
    "### 3.2 `load_electrodes`"
   ]
  },
  {
   "cell_type": "code",
   "execution_count": 11,
   "id": "f6bd83de",
   "metadata": {},
   "outputs": [
    {
     "name": "stderr",
     "output_type": "stream",
     "text": [
      "2025-07-18 20:13:14,457 — INFO — Reading electrode coordinates → /home/sms/Github/datasets/ieeg/ds003848/sub-RESP0521/ses-1/ieeg/sub-RESP0521_ses-1_electrodes.csv\n"
     ]
    },
    {
     "name": "stdout",
     "output_type": "stream",
     "text": [
      "coords shape: (64, 3)\n",
      "first 5 coords (m):\n",
      " [[-0.03486902 -0.04051788  0.03658449]\n",
      " [-0.03786902 -0.03451788  0.04358449]\n",
      " [-0.04186902 -0.02751788  0.04958449]\n",
      " [-0.04586902 -0.02051788  0.05858449]\n",
      " [-0.04886902 -0.01351788  0.06558449]]\n",
      "sample names: ['C01', 'C02', 'C03', 'C04', 'C05']\n",
      "types counts: {'seeg': 64}\n"
     ]
    }
   ],
   "source": [
    "coords, names, types = load_electrodes(cfg, n_channels=len(df_valid))\n",
    "print(\"coords shape:\", coords.shape)\n",
    "print(\"first 5 coords (m):\\n\", coords[:5])\n",
    "print(\"sample names:\", names[:5])\n",
    "print(\"types counts:\", pd.Series(types).value_counts().to_dict())"
   ]
  },
  {
   "cell_type": "markdown",
   "id": "9481dbbc",
   "metadata": {},
   "source": [
    "### 3.3 `set_montage_and_types`"
   ]
  },
  {
   "cell_type": "code",
   "execution_count": 12,
   "id": "225b91a4",
   "metadata": {},
   "outputs": [
    {
     "name": "stdout",
     "output_type": "stream",
     "text": [
      ">> Montage set. Dig points: 67\n",
      "NOTE: pick_channels() is a legacy function. New code should use inst.pick(...).\n"
     ]
    },
    {
     "data": {
      "text/html": [
       "<script type=\"text/javascript\">\n",
       "    // must be `var` (not `const`) because this can get embedded multiple times on a page\n",
       "var toggleVisibility = (className) => {\n",
       "\n",
       "    const elements = document.querySelectorAll(`.${className}`);\n",
       "\n",
       "    elements.forEach(element => {\n",
       "        if (element.classList.contains(\"mne-repr-section-header\")) {\n",
       "            return  // Don't collapse the section header row\n",
       "        }\n",
       "        element.classList.toggle(\"mne-repr-collapsed\");\n",
       "    });\n",
       "\n",
       "    // trigger caret to rotate\n",
       "    var sel = `.mne-repr-section-header.${className} > th.mne-repr-section-toggle > button`;\n",
       "    const button = document.querySelector(sel);\n",
       "    button.classList.toggle(\"collapsed\");\n",
       "\n",
       "    // adjust tooltip\n",
       "    sel = `tr.mne-repr-section-header.${className}`;\n",
       "    const secHeadRow = document.querySelector(sel);\n",
       "    secHeadRow.classList.toggle(\"collapsed\");\n",
       "    secHeadRow.title = secHeadRow.title === \"Hide section\" ? \"Show section\" : \"Hide section\";\n",
       "}\n",
       "</script>\n",
       "\n",
       "<style type=\"text/css\">\n",
       "    /*\n",
       "Styles in this section apply both to the sphinx-built website docs and to notebooks\n",
       "rendered in an IDE or in Jupyter. In our web docs, styles here are complemented by\n",
       "doc/_static/styles.css and other CSS files (e.g. from the sphinx theme, sphinx-gallery,\n",
       "or bootstrap). In IDEs/Jupyter, those style files are unavailable, so only the rules in\n",
       "this file apply (plus whatever default styling the IDE applies).\n",
       "*/\n",
       ".mne-repr-table {\n",
       "    display: inline;  /* prevent using full container width */\n",
       "}\n",
       ".mne-repr-table tr.mne-repr-section-header > th {\n",
       "    padding-top: 1rem;\n",
       "    text-align: left;\n",
       "    vertical-align: middle;\n",
       "}\n",
       ".mne-repr-section-toggle > button {\n",
       "    all: unset;\n",
       "    display: block;\n",
       "    height: 1rem;\n",
       "    width: 1rem;\n",
       "}\n",
       ".mne-repr-section-toggle > button > svg {\n",
       "    height: 60%;\n",
       "}\n",
       "\n",
       "/* transition (rotation) effects on the collapser button */\n",
       ".mne-repr-section-toggle > button.collapsed > svg {\n",
       "    transition: 0.1s ease-out;\n",
       "    transform: rotate(-90deg);\n",
       "}\n",
       ".mne-repr-section-toggle > button:not(.collapsed) > svg {\n",
       "    transition: 0.1s ease-out;\n",
       "    transform: rotate(0deg);\n",
       "}\n",
       "\n",
       "/* hide collapsed table rows */\n",
       ".mne-repr-collapsed {\n",
       "    display: none;\n",
       "}\n",
       "\n",
       "\n",
       "@layer {\n",
       "    /*\n",
       "    Selectors in a `@layer` will always be lower-precedence than selectors outside the\n",
       "    layer. So even though e.g. `div.output_html` is present in the sphinx-rendered\n",
       "    website docs, the styles here won't take effect there as long as some other rule\n",
       "    somewhere in the page's CSS targets the same element.\n",
       "\n",
       "    In IDEs or Jupyter notebooks, though, the CSS files from the sphinx theme,\n",
       "    sphinx-gallery, and bootstrap are unavailable, so these styles will apply.\n",
       "\n",
       "    Notes:\n",
       "\n",
       "    - the selector `.accordion-body` is for MNE Reports\n",
       "    - the selector `.output_html` is for VSCode's notebook interface\n",
       "    - the selector `.jp-RenderedHTML` is for Jupyter notebook\n",
       "    - variables starting with `--theme-` are VSCode-specific.\n",
       "    - variables starting with `--jp-` are Jupyter styles, *some of which* are also\n",
       "      available in VSCode. Here we try the `--theme-` variable first, then fall back to\n",
       "      the `--jp-` ones.\n",
       "    */\n",
       "    .mne-repr-table {\n",
       "        --mne-toggle-color: var(--theme-foreground, var(--jp-ui-font-color1));\n",
       "        --mne-button-bg-color: var(--theme-button-background, var(--jp-info-color0, var(--jp-content-link-color)));\n",
       "        --mne-button-fg-color: var(--theme-button-foreground, var(--jp-ui-inverse-font-color0, var(--jp-editor-background)));\n",
       "        --mne-button-hover-bg-color: var(--theme-button-hover-background, var(--jp-info-color1));\n",
       "        --mne-button-radius: var(--jp-border-radius, 0.25rem);\n",
       "    }\n",
       "    /* chevron position/alignment; in VSCode it looks ok without adjusting */\n",
       "    .accordion-body .mne-repr-section-toggle > button,\n",
       "    .jp-RenderedHTML .mne-repr-section-toggle > button {\n",
       "        padding: 0 0 45% 25% !important;\n",
       "    }\n",
       "    /* chevron color; MNE Report doesn't have light/dark mode */\n",
       "    div.output_html .mne-repr-section-toggle > button > svg > path,\n",
       "    .jp-RenderedHTML .mne-repr-section-toggle > button > svg > path {\n",
       "        fill: var(--mne-toggle-color);\n",
       "    }\n",
       "    .accordion-body .mne-ch-names-btn,\n",
       "    div.output_html .mne-ch-names-btn,\n",
       "    .jp-RenderedHTML .mne-ch-names-btn {\n",
       "        -webkit-border-radius: var(--mne-button-radius);\n",
       "        -moz-border-radius: var(--mne-button-radius);\n",
       "        border-radius: var(--mne-button-radius);\n",
       "        border: none;\n",
       "        background-image: none;\n",
       "        background-color: var(--mne-button-bg-color);\n",
       "        color: var(--mne-button-fg-color);\n",
       "        font-size: inherit;\n",
       "        min-width: 1.5rem;\n",
       "        padding: 0.25rem;\n",
       "        text-align: center;\n",
       "        text-decoration: none;\n",
       "    }\n",
       "    .accordion-body .mne-ch-names-btn:hover,\n",
       "    div.output_html .mne.ch-names-btn:hover,\n",
       "    .jp-RenderedHTML .mne-ch-names-btn:hover {\n",
       "        background-color: var(--mne-button-hover-bg-color);\n",
       "        text-decoration: underline;\n",
       "    }\n",
       "    .accordion-body .mne-ch-names-btn:focus-visible,\n",
       "    div.output_html .mne-ch-names-btn:focus-visible,\n",
       "    .jp-RenderedHTML .mne-ch-names-btn:focus-visible {\n",
       "        outline: 0.1875rem solid var(--mne-button-bg-color) !important;\n",
       "        outline-offset: 0.1875rem !important;\n",
       "    }\n",
       "}\n",
       "</style>\n",
       "\n",
       "\n",
       "\n",
       "<table class=\"table mne-repr-table\">\n",
       "    \n",
       "\n",
       "\n",
       "\n",
       "\n",
       "\n",
       "\n",
       "\n",
       "<tr class=\"mne-repr-section-header general-e9526855-8da3-4a45-b901-67ab5ad2a945\"\n",
       "     title=\"Hide section\" \n",
       "    onclick=\"toggleVisibility('general-e9526855-8da3-4a45-b901-67ab5ad2a945')\">\n",
       "    <th class=\"mne-repr-section-toggle\">\n",
       "        <button >\n",
       "            <svg xmlns=\"http://www.w3.org/2000/svg\" viewBox=\"0 0 512 512\"><!--!Font Awesome Free 6.6.0 by @fontawesome - https://fontawesome.com License - https://fontawesome.com/license/free Copyright 2024 Fonticons, Inc.--><path d=\"M233.4 406.6c12.5 12.5 32.8 12.5 45.3 0l192-192c12.5-12.5 12.5-32.8 0-45.3s-32.8-12.5-45.3 0L256 338.7 86.6 169.4c-12.5-12.5-32.8-12.5-45.3 0s-12.5 32.8 0 45.3l192 192z\"/></svg>\n",
       "        </button>\n",
       "    </th>\n",
       "    <th colspan=\"2\">\n",
       "        <strong>General</strong>\n",
       "    </th>\n",
       "</tr>\n",
       "\n",
       "\n",
       "<tr class=\"repr-element general-e9526855-8da3-4a45-b901-67ab5ad2a945 \">\n",
       "    <td class=\"mne-repr-section-toggle\"></td>\n",
       "    <td>Filename(s)</td>\n",
       "    <td>\n",
       "        \n",
       "        sub-RESP0521_ses-1_task-Sleep_run-060307_ieeg.eeg\n",
       "        \n",
       "        \n",
       "    </td>\n",
       "</tr>\n",
       "\n",
       "<tr class=\"repr-element general-e9526855-8da3-4a45-b901-67ab5ad2a945 \">\n",
       "    <td class=\"mne-repr-section-toggle\"></td>\n",
       "    <td>MNE object type</td>\n",
       "    <td>RawBrainVision</td>\n",
       "</tr>\n",
       "<tr class=\"repr-element general-e9526855-8da3-4a45-b901-67ab5ad2a945 \">\n",
       "    <td class=\"mne-repr-section-toggle\"></td>\n",
       "    <td>Measurement date</td>\n",
       "    \n",
       "    <td>Unknown</td>\n",
       "    \n",
       "</tr>\n",
       "<tr class=\"repr-element general-e9526855-8da3-4a45-b901-67ab5ad2a945 \">\n",
       "    <td class=\"mne-repr-section-toggle\"></td>\n",
       "    <td>Participant</td>\n",
       "    \n",
       "    <td>Unknown</td>\n",
       "    \n",
       "</tr>\n",
       "<tr class=\"repr-element general-e9526855-8da3-4a45-b901-67ab5ad2a945 \">\n",
       "    <td class=\"mne-repr-section-toggle\"></td>\n",
       "    <td>Experimenter</td>\n",
       "    \n",
       "    <td>Unknown</td>\n",
       "    \n",
       "</tr>\n",
       "    \n",
       "\n",
       "\n",
       "\n",
       "\n",
       "\n",
       "\n",
       "\n",
       "<tr class=\"mne-repr-section-header acquisition-f51e139c-712f-4bd0-86e2-9d4c76cb3f24\"\n",
       "     title=\"Hide section\" \n",
       "    onclick=\"toggleVisibility('acquisition-f51e139c-712f-4bd0-86e2-9d4c76cb3f24')\">\n",
       "    <th class=\"mne-repr-section-toggle\">\n",
       "        <button >\n",
       "            <svg xmlns=\"http://www.w3.org/2000/svg\" viewBox=\"0 0 512 512\"><!--!Font Awesome Free 6.6.0 by @fontawesome - https://fontawesome.com License - https://fontawesome.com/license/free Copyright 2024 Fonticons, Inc.--><path d=\"M233.4 406.6c12.5 12.5 32.8 12.5 45.3 0l192-192c12.5-12.5 12.5-32.8 0-45.3s-32.8-12.5-45.3 0L256 338.7 86.6 169.4c-12.5-12.5-32.8-12.5-45.3 0s-12.5 32.8 0 45.3l192 192z\"/></svg>\n",
       "        </button>\n",
       "    </th>\n",
       "    <th colspan=\"2\">\n",
       "        <strong>Acquisition</strong>\n",
       "    </th>\n",
       "</tr>\n",
       "\n",
       "\n",
       "<tr class=\"repr-element acquisition-f51e139c-712f-4bd0-86e2-9d4c76cb3f24 \">\n",
       "    <td class=\"mne-repr-section-toggle\"></td>\n",
       "    <td>Duration</td>\n",
       "    <td>00:31:23 (HH:MM:SS)</td>\n",
       "</tr>\n",
       "\n",
       "\n",
       "\n",
       "\n",
       "\n",
       "\n",
       "\n",
       "\n",
       "<tr class=\"repr-element acquisition-f51e139c-712f-4bd0-86e2-9d4c76cb3f24 \">\n",
       "    <td class=\"mne-repr-section-toggle\"></td>\n",
       "    <td>Sampling frequency</td>\n",
       "    <td>512.00 Hz</td>\n",
       "</tr>\n",
       "\n",
       "\n",
       "<tr class=\"repr-element acquisition-f51e139c-712f-4bd0-86e2-9d4c76cb3f24 \">\n",
       "    <td class=\"mne-repr-section-toggle\"></td>\n",
       "    <td>Time points</td>\n",
       "    <td>963,991</td>\n",
       "</tr>\n",
       "\n",
       "\n",
       "    \n",
       "\n",
       "\n",
       "\n",
       "\n",
       "\n",
       "\n",
       "\n",
       "<tr class=\"mne-repr-section-header channels-ef8d513b-3c1c-474e-8086-d926b50af281\"\n",
       "     title=\"Hide section\" \n",
       "    onclick=\"toggleVisibility('channels-ef8d513b-3c1c-474e-8086-d926b50af281')\">\n",
       "    <th class=\"mne-repr-section-toggle\">\n",
       "        <button >\n",
       "            <svg xmlns=\"http://www.w3.org/2000/svg\" viewBox=\"0 0 512 512\"><!--!Font Awesome Free 6.6.0 by @fontawesome - https://fontawesome.com License - https://fontawesome.com/license/free Copyright 2024 Fonticons, Inc.--><path d=\"M233.4 406.6c12.5 12.5 32.8 12.5 45.3 0l192-192c12.5-12.5 12.5-32.8 0-45.3s-32.8-12.5-45.3 0L256 338.7 86.6 169.4c-12.5-12.5-32.8-12.5-45.3 0s-12.5 32.8 0 45.3l192 192z\"/></svg>\n",
       "        </button>\n",
       "    </th>\n",
       "    <th colspan=\"2\">\n",
       "        <strong>Channels</strong>\n",
       "    </th>\n",
       "</tr>\n",
       "\n",
       "\n",
       "    \n",
       "<tr class=\"repr-element channels-ef8d513b-3c1c-474e-8086-d926b50af281 \">\n",
       "    <td class=\"mne-repr-section-toggle\"></td>\n",
       "    <td>EEG</td>\n",
       "    <td>\n",
       "        <button class=\"mne-ch-names-btn sd-sphinx-override sd-btn sd-btn-info sd-text-wrap sd-shadow-sm\" onclick=\"alert('Good EEG:\\n\\nC01, C02, C03, C04, C05, C06, C07, C08, C09, C10, C11, C12, C13, C14, C15, C16, C17, C18, C19, C20, C21, C22, C23, C24, C25, C26, C27, C28, C29, C30, C31, C32, CH01, CH02, CH03, CH04, CH05, CH06, CH07, CH08, CH09, CH10, CH11, CH12, CH13, CH14, CH15, CH16, IHa1, IHa2, IHa3, IHa4, IHa5, IHa6, IHa7, IHa8, IHv1, IHv2, IHv3, IHv4, IHv5, IHv6, IHv7, IHv8')\" title=\"(Click to open in popup)&#13;&#13;C01, C02, C03, C04, C05, C06, C07, C08, C09, C10, C11, C12, C13, C14, C15, C16, C17, C18, C19, C20, C21, C22, C23, C24, C25, C26, C27, C28, C29, C30, C31, C32, CH01, CH02, CH03, CH04, CH05, CH06, CH07, CH08, CH09, CH10, CH11, CH12, CH13, CH14, CH15, CH16, IHa1, IHa2, IHa3, IHa4, IHa5, IHa6, IHa7, IHa8, IHv1, IHv2, IHv3, IHv4, IHv5, IHv6, IHv7, IHv8\">\n",
       "            64\n",
       "        </button>\n",
       "\n",
       "        \n",
       "    </td>\n",
       "</tr>\n",
       "\n",
       "\n",
       "<tr class=\"repr-element channels-ef8d513b-3c1c-474e-8086-d926b50af281 \">\n",
       "    <td class=\"mne-repr-section-toggle\"></td>\n",
       "    <td>Head & sensor digitization</td>\n",
       "    \n",
       "    <td>67 points</td>\n",
       "    \n",
       "</tr>\n",
       "    \n",
       "\n",
       "\n",
       "\n",
       "\n",
       "\n",
       "\n",
       "\n",
       "<tr class=\"mne-repr-section-header filters-1391c9ec-586d-4a6f-a70f-6a873f549dd3\"\n",
       "     title=\"Hide section\" \n",
       "    onclick=\"toggleVisibility('filters-1391c9ec-586d-4a6f-a70f-6a873f549dd3')\">\n",
       "    <th class=\"mne-repr-section-toggle\">\n",
       "        <button >\n",
       "            <svg xmlns=\"http://www.w3.org/2000/svg\" viewBox=\"0 0 512 512\"><!--!Font Awesome Free 6.6.0 by @fontawesome - https://fontawesome.com License - https://fontawesome.com/license/free Copyright 2024 Fonticons, Inc.--><path d=\"M233.4 406.6c12.5 12.5 32.8 12.5 45.3 0l192-192c12.5-12.5 12.5-32.8 0-45.3s-32.8-12.5-45.3 0L256 338.7 86.6 169.4c-12.5-12.5-32.8-12.5-45.3 0s-12.5 32.8 0 45.3l192 192z\"/></svg>\n",
       "        </button>\n",
       "    </th>\n",
       "    <th colspan=\"2\">\n",
       "        <strong>Filters</strong>\n",
       "    </th>\n",
       "</tr>\n",
       "\n",
       "\n",
       "<tr class=\"repr-element filters-1391c9ec-586d-4a6f-a70f-6a873f549dd3 \">\n",
       "    <td class=\"mne-repr-section-toggle\"></td>\n",
       "    <td>Highpass</td>\n",
       "    <td>0.00 Hz</td>\n",
       "</tr>\n",
       "\n",
       "\n",
       "<tr class=\"repr-element filters-1391c9ec-586d-4a6f-a70f-6a873f549dd3 \">\n",
       "    <td class=\"mne-repr-section-toggle\"></td>\n",
       "    <td>Lowpass</td>\n",
       "    <td>256.00 Hz</td>\n",
       "</tr>\n",
       "\n",
       "\n",
       "</table>"
      ],
      "text/plain": [
       "<RawBrainVision | sub-RESP0521_ses-1_task-Sleep_run-060307_ieeg.eeg, 64 x 963991 (1882.8 s), ~470.8 MiB, data loaded>"
      ]
     },
     "execution_count": 12,
     "metadata": {},
     "output_type": "execute_result"
    }
   ],
   "source": [
    "set_montage_and_types(raw, coords, names, types)\n",
    "print(\">> Montage set. Dig points:\", len(raw.info['dig']))\n",
    "\n",
    "mapping = {name: \"eeg\" for name in names}\n",
    "raw.set_channel_types(mapping)\n",
    "\n",
    "raw.pick_channels(names, ordered=True)\n"
   ]
  },
  {
   "cell_type": "markdown",
   "id": "588f06e3",
   "metadata": {},
   "source": [
    "### 3.4 `make_subject_id` & `build_forward_model`"
   ]
  },
  {
   "cell_type": "code",
   "execution_count": 13,
   "id": "f4a6b4cb",
   "metadata": {},
   "outputs": [
    {
     "name": "stderr",
     "output_type": "stream",
     "text": [
      "2025-07-18 20:13:15,186 — INFO — Converted sub-RESP0521_ses-1_rec-deface_T1w.nii → /home/sms/Github/datasets/ieeg/ds003848/sub-RESP0521/mri/T1.mgz\n",
      "2025-07-18 20:13:15,188 — INFO — Setting up 6.0 mm volumetric source space\n"
     ]
    },
    {
     "name": "stdout",
     "output_type": "stream",
     "text": [
      "/home/sms/Github/datasets/ieeg/ds003848/sub-RESP0521/mri/T1.mgz\n"
     ]
    },
    {
     "name": "stderr",
     "output_type": "stream",
     "text": [
      "2025-07-18 20:13:18,118 — INFO — Attempting BEM model/solution (requires FreeSurfer surfaces)\n",
      "2025-07-18 20:13:18,120 — WARNING — BEM surfaces not found → falling back to spherical model\n"
     ]
    },
    {
     "name": "stdout",
     "output_type": "stream",
     "text": [
      "Fitted sphere radius:         55.0 mm\n",
      "Origin head coordinates:      -7.2 10.6 41.4 mm\n",
      "Origin device coordinates:    -7.2 10.6 41.4 mm\n",
      "\n",
      "Equiv. model fitting -> RV = 0.00347455 %%\n",
      "mu1 = 0.944856    lambda1 = 0.136823\n",
      "mu2 = 0.667779    lambda2 = 0.683693\n",
      "mu3 = -0.294888    lambda3 = -0.0101468\n",
      "Set up EEG sphere model with scalp radius    55.0 mm\n",
      "\n"
     ]
    },
    {
     "name": "stderr",
     "output_type": "stream",
     "text": [
      "2025-07-18 20:13:18,246 — INFO — Computing forward solution (seeg+ecog enabled)\n"
     ]
    },
    {
     "name": "stdout",
     "output_type": "stream",
     "text": [
      "Subject inferred: sub-RESP0521\n",
      "Forward solution with 13997 sources and 64 channels.\n"
     ]
    }
   ],
   "source": [
    "subject = make_subject_id(cfg)\n",
    "fwd, src = build_forward_model(cfg, raw, subject)\n",
    "print(f\"Subject inferred: {subject}\")\n",
    "print(f\"Forward solution with {fwd['nsource']} sources and {fwd['nchan']} channels.\")"
   ]
  },
  {
   "cell_type": "markdown",
   "id": "468d4c18",
   "metadata": {},
   "source": [
    "### 3.5 `create_evoked_or_epochs`"
   ]
  },
  {
   "cell_type": "code",
   "execution_count": 14,
   "id": "a17d7663",
   "metadata": {},
   "outputs": [
    {
     "name": "stderr",
     "output_type": "stream",
     "text": [
      "2025-07-18 20:13:18,907 — INFO — Cropping raw data to 0.000–30.000 s\n"
     ]
    },
    {
     "name": "stdout",
     "output_type": "stream",
     "text": [
      "<class 'mne.evoked.EvokedArray'> <Evoked | 'iEEG‑mean' (average, N=1), 0 – 0 s, baseline off, 64 ch, ~80 KiB>\n"
     ]
    }
   ],
   "source": [
    "data_obj = create_evoked_or_epochs(raw, cfg)\n",
    "print(type(data_obj), data_obj)"
   ]
  },
  {
   "cell_type": "markdown",
   "id": "c75c41f4",
   "metadata": {},
   "source": [
    "### 3.6 `estimate_sources` (full pipeline wrapper)"
   ]
  },
  {
   "cell_type": "code",
   "execution_count": 15,
   "id": "b088311a",
   "metadata": {},
   "outputs": [
    {
     "name": "stderr",
     "output_type": "stream",
     "text": [
      "2025-07-18 20:13:19,084 — INFO — Loading raw data → /home/sms/Github/datasets/ieeg/ds003848/sub-RESP0521/ses-1/ieeg/sub-RESP0521_ses-1_task-Sleep_run-060307_ieeg.vhdr\n",
      "2025-07-18 20:13:21,758 — INFO — Reading electrode coordinates → /home/sms/Github/datasets/ieeg/ds003848/sub-RESP0521/ses-1/ieeg/sub-RESP0521_ses-1_electrodes.csv\n"
     ]
    },
    {
     "name": "stdout",
     "output_type": "stream",
     "text": [
      "NOTE: pick_channels() is a legacy function. New code should use inst.pick(...).\n",
      "NOTE: pick_channels() is a legacy function. New code should use inst.pick(...).\n",
      "EEG channel type selected for re-referencing\n",
      "Adding average EEG reference projection.\n",
      "1 projection items deactivated\n",
      "Average reference projection was added, but has not been applied yet. Use the apply_proj method to apply it.\n"
     ]
    },
    {
     "name": "stderr",
     "output_type": "stream",
     "text": [
      "2025-07-18 20:13:22,589 — INFO — Converted sub-RESP0521_ses-1_rec-deface_T1w.nii → /home/sms/Github/datasets/ieeg/ds003848/sub-RESP0521/mri/T1.mgz\n",
      "2025-07-18 20:13:22,590 — INFO — Setting up 6.0 mm volumetric source space\n"
     ]
    },
    {
     "name": "stdout",
     "output_type": "stream",
     "text": [
      "/home/sms/Github/datasets/ieeg/ds003848/sub-RESP0521/mri/T1.mgz\n"
     ]
    },
    {
     "name": "stderr",
     "output_type": "stream",
     "text": [
      "2025-07-18 20:13:25,396 — INFO — Attempting BEM model/solution (requires FreeSurfer surfaces)\n",
      "2025-07-18 20:13:25,398 — WARNING — BEM surfaces not found → falling back to spherical model\n"
     ]
    },
    {
     "name": "stdout",
     "output_type": "stream",
     "text": [
      "Fitted sphere radius:         55.0 mm\n",
      "Origin head coordinates:      -7.2 10.6 41.4 mm\n",
      "Origin device coordinates:    -7.2 10.6 41.4 mm\n",
      "\n",
      "Equiv. model fitting -> RV = 0.00347455 %%\n",
      "mu1 = 0.944856    lambda1 = 0.136823\n",
      "mu2 = 0.667779    lambda2 = 0.683693\n",
      "mu3 = -0.294888    lambda3 = -0.0101468\n",
      "Set up EEG sphere model with scalp radius    55.0 mm\n",
      "\n"
     ]
    },
    {
     "name": "stderr",
     "output_type": "stream",
     "text": [
      "2025-07-18 20:13:25,514 — INFO — Computing forward solution (seeg+ecog enabled)\n",
      "2025-07-18 20:13:26,164 — INFO — Cropping raw data to 0.000–30.000 s\n"
     ]
    },
    {
     "name": "stdout",
     "output_type": "stream",
     "text": [
      "Created an SSP operator (subspace dimension = 1)\n",
      "1 projection items activated\n",
      "SSP projectors applied...\n"
     ]
    },
    {
     "name": "stderr",
     "output_type": "stream",
     "text": [
      "2025-07-18 20:13:26,321 — INFO — Creating diagonal noise covariance\n",
      "/home/sms/.pyenv/versions/nrimg/lib/python3.12/site-packages/mne/forward/forward.py:1466: RuntimeWarning: divide by zero encountered in divide\n",
      "  w = 1.0 / d\n",
      "2025-07-18 20:13:27,431 — INFO — Applying inverse solution (dSPM, λ²=0.111)\n",
      "/home/sms/.pyenv/versions/nrimg/lib/python3.12/site-packages/mne/minimum_norm/inverse.py:756: RuntimeWarning: divide by zero encountered in divide\n",
      "  inv[\"noisenorm\"] = 1.0 / np.abs(noise_norm)\n",
      "/home/sms/.pyenv/versions/nrimg/lib/python3.12/site-packages/mne/minimum_norm/inverse.py:1112: RuntimeWarning: invalid value encountered in multiply\n",
      "  sol *= noise_norm\n",
      "2025-07-18 20:13:27,586 — INFO — Morphing volumetric STC to fsaverage (MNI)\n",
      "2025-07-18 20:13:34,717 — INFO — Creating scale space from the moving image. Levels: 3. Sigma factor: 0.200000.\n",
      "2025-07-18 20:13:34,724 — INFO — Creating scale space from the static image. Levels: 3. Sigma factor: 0.200000.\n",
      "2025-07-18 20:13:34,730 — INFO — Optimizing level 2\n",
      "2025-07-18 20:13:34,761 — INFO — Optimizing level 1\n",
      "2025-07-18 20:13:34,910 — INFO — Optimizing level 0\n",
      "100%|██████████| Time : 1/1 [00:00<00:00,    7.72it/s]\n",
      "2025-07-18 20:13:37,530 — INFO — Converting to volume & Z‑scoring\n"
     ]
    },
    {
     "ename": "ValueError",
     "evalue": "stc.subject does not match src subject (fsaverage != sub-RESP0521)",
     "output_type": "error",
     "traceback": [
      "\u001b[31m---------------------------------------------------------------------------\u001b[39m",
      "\u001b[31mValueError\u001b[39m                                Traceback (most recent call last)",
      "\u001b[36mCell\u001b[39m\u001b[36m \u001b[39m\u001b[32mIn[15]\u001b[39m\u001b[32m, line 1\u001b[39m\n\u001b[32m----> \u001b[39m\u001b[32m1\u001b[39m zmap, affine = \u001b[43mestimate_sources\u001b[49m\u001b[43m(\u001b[49m\u001b[43mcfg\u001b[49m\u001b[43m)\u001b[49m\n\u001b[32m      2\u001b[39m \u001b[38;5;28mprint\u001b[39m(\u001b[33m\"\u001b[39m\u001b[33mZ‑map shape:\u001b[39m\u001b[33m\"\u001b[39m, zmap.shape)\n",
      "\u001b[36mFile \u001b[39m\u001b[32m~/Github/epimage/eeg/esi/ieeg.py:262\u001b[39m, in \u001b[36mestimate_sources\u001b[39m\u001b[34m(cfg)\u001b[39m\n\u001b[32m    259\u001b[39m     stc = morph.apply(stc)\n\u001b[32m    261\u001b[39m LOG.info(\u001b[33m\"\u001b[39m\u001b[33mConverting to volume & Z‑scoring\u001b[39m\u001b[33m\"\u001b[39m)\n\u001b[32m--> \u001b[39m\u001b[32m262\u001b[39m img = \u001b[43mstc\u001b[49m\u001b[43m.\u001b[49m\u001b[43mas_volume\u001b[49m\u001b[43m(\u001b[49m\u001b[43msrc\u001b[49m\u001b[43m,\u001b[49m\u001b[43m \u001b[49m\u001b[43mmri_resolution\u001b[49m\u001b[43m=\u001b[49m\u001b[38;5;28;43;01mTrue\u001b[39;49;00m\u001b[43m)\u001b[49m\n\u001b[32m    263\u001b[39m data = img.get_fdata().astype(np.float32)\n\u001b[32m    265\u001b[39m \u001b[38;5;66;03m# Z‑score across all voxels & time\u001b[39;00m\n",
      "\u001b[36mFile \u001b[39m\u001b[32m~/.pyenv/versions/nrimg/lib/python3.12/site-packages/mne/source_estimate.py:2616\u001b[39m, in \u001b[36m_BaseVolSourceEstimate.as_volume\u001b[39m\u001b[34m(self, src, dest, mri_resolution, format)\u001b[39m\n\u001b[32m   2613\u001b[39m \u001b[38;5;28;01mfrom\u001b[39;00m\u001b[38;5;250m \u001b[39m\u001b[34;01m.\u001b[39;00m\u001b[34;01mmorph\u001b[39;00m\u001b[38;5;250m \u001b[39m\u001b[38;5;28;01mimport\u001b[39;00m _interpolate_data\n\u001b[32m   2615\u001b[39m data = \u001b[38;5;28mself\u001b[39m.magnitude() \u001b[38;5;28;01mif\u001b[39;00m \u001b[38;5;28mself\u001b[39m._data_ndim == \u001b[32m3\u001b[39m \u001b[38;5;28;01melse\u001b[39;00m \u001b[38;5;28mself\u001b[39m\n\u001b[32m-> \u001b[39m\u001b[32m2616\u001b[39m \u001b[38;5;28;01mreturn\u001b[39;00m \u001b[43m_interpolate_data\u001b[49m\u001b[43m(\u001b[49m\n\u001b[32m   2617\u001b[39m \u001b[43m    \u001b[49m\u001b[43mdata\u001b[49m\u001b[43m,\u001b[49m\u001b[43m \u001b[49m\u001b[43msrc\u001b[49m\u001b[43m,\u001b[49m\u001b[43m \u001b[49m\u001b[43mmri_resolution\u001b[49m\u001b[43m=\u001b[49m\u001b[43mmri_resolution\u001b[49m\u001b[43m,\u001b[49m\u001b[43m \u001b[49m\u001b[43mmri_space\u001b[49m\u001b[43m=\u001b[49m\u001b[38;5;28;43;01mTrue\u001b[39;49;00m\u001b[43m,\u001b[49m\u001b[43m \u001b[49m\u001b[43moutput\u001b[49m\u001b[43m=\u001b[49m\u001b[38;5;28;43mformat\u001b[39;49m\n\u001b[32m   2618\u001b[39m \u001b[43m\u001b[49m\u001b[43m)\u001b[49m\n",
      "\u001b[36mFile \u001b[39m\u001b[32m~/.pyenv/versions/nrimg/lib/python3.12/site-packages/mne/morph.py:1080\u001b[39m, in \u001b[36m_interpolate_data\u001b[39m\u001b[34m(stc, morph, mri_resolution, mri_space, output)\u001b[39m\n\u001b[32m   1078\u001b[39m \u001b[38;5;28;01massert\u001b[39;00m \u001b[38;5;28misinstance\u001b[39m(inuse, \u001b[38;5;28mlist\u001b[39m)\n\u001b[32m   1079\u001b[39m \u001b[38;5;28;01mif\u001b[39;00m stc.subject \u001b[38;5;129;01mis\u001b[39;00m \u001b[38;5;129;01mnot\u001b[39;00m \u001b[38;5;28;01mNone\u001b[39;00m:\n\u001b[32m-> \u001b[39m\u001b[32m1080\u001b[39m     \u001b[43m_check_subject_src\u001b[49m\u001b[43m(\u001b[49m\u001b[43mstc\u001b[49m\u001b[43m.\u001b[49m\u001b[43msubject\u001b[49m\u001b[43m,\u001b[49m\u001b[43m \u001b[49m\u001b[43msrc_subject\u001b[49m\u001b[43m,\u001b[49m\u001b[43m \u001b[49m\u001b[33;43m\"\u001b[39;49m\u001b[33;43mstc.subject\u001b[39;49m\u001b[33;43m\"\u001b[39;49m\u001b[43m)\u001b[49m\n\u001b[32m   1082\u001b[39m n_times = stc.data.shape[\u001b[32m1\u001b[39m]\n\u001b[32m   1083\u001b[39m shape = morph.src_data[\u001b[33m\"\u001b[39m\u001b[33msrc_shape\u001b[39m\u001b[33m\"\u001b[39m][::-\u001b[32m1\u001b[39m] + (n_times,)  \u001b[38;5;66;03m# SAR->RAST\u001b[39;00m\n",
      "\u001b[36mFile \u001b[39m\u001b[32m~/.pyenv/versions/nrimg/lib/python3.12/site-packages/mne/morph.py:839\u001b[39m, in \u001b[36m_check_subject_src\u001b[39m\u001b[34m(subject, src, name, src_name, warn_none)\u001b[39m\n\u001b[32m    837\u001b[39m     subject = subject_check\n\u001b[32m    838\u001b[39m \u001b[38;5;28;01melif\u001b[39;00m subject_check \u001b[38;5;129;01mis\u001b[39;00m \u001b[38;5;129;01mnot\u001b[39;00m \u001b[38;5;28;01mNone\u001b[39;00m \u001b[38;5;129;01mand\u001b[39;00m subject != subject_check:\n\u001b[32m--> \u001b[39m\u001b[32m839\u001b[39m     \u001b[38;5;28;01mraise\u001b[39;00m \u001b[38;5;167;01mValueError\u001b[39;00m(\n\u001b[32m    840\u001b[39m         \u001b[33mf\u001b[39m\u001b[33m\"\u001b[39m\u001b[38;5;132;01m{\u001b[39;00mname\u001b[38;5;132;01m}\u001b[39;00m\u001b[33m does not match \u001b[39m\u001b[38;5;132;01m{\u001b[39;00msrc_name\u001b[38;5;132;01m}\u001b[39;00m\u001b[33m subject (\u001b[39m\u001b[38;5;132;01m{\u001b[39;00msubject\u001b[38;5;132;01m}\u001b[39;00m\u001b[33m != \u001b[39m\u001b[38;5;132;01m{\u001b[39;00msubject_check\u001b[38;5;132;01m}\u001b[39;00m\u001b[33m)\u001b[39m\u001b[33m\"\u001b[39m\n\u001b[32m    841\u001b[39m     )\n\u001b[32m    842\u001b[39m \u001b[38;5;28;01mif\u001b[39;00m subject \u001b[38;5;129;01mis\u001b[39;00m \u001b[38;5;28;01mNone\u001b[39;00m:\n\u001b[32m    843\u001b[39m     \u001b[38;5;28;01mraise\u001b[39;00m \u001b[38;5;167;01mValueError\u001b[39;00m(\n\u001b[32m    844\u001b[39m         \u001b[33mf\u001b[39m\u001b[33m\"\u001b[39m\u001b[38;5;132;01m{\u001b[39;00mname\u001b[38;5;132;01m}\u001b[39;00m\u001b[33m could not be inferred from \u001b[39m\u001b[38;5;132;01m{\u001b[39;00msrc_name\u001b[38;5;132;01m}\u001b[39;00m\u001b[33m, it must be specified\u001b[39m\u001b[33m\"\u001b[39m\n\u001b[32m    845\u001b[39m     )\n",
      "\u001b[31mValueError\u001b[39m: stc.subject does not match src subject (fsaverage != sub-RESP0521)"
     ]
    }
   ],
   "source": [
    "zmap, affine = estimate_sources(cfg)\n",
    "print(\"Z‑map shape:\", zmap.shape)"
   ]
  },
  {
   "cell_type": "markdown",
   "id": "1b3a6b4b",
   "metadata": {},
   "source": [
    "### 3.7 `save_nifti` & quick visualisation"
   ]
  },
  {
   "cell_type": "code",
   "execution_count": null,
   "id": "7954fe14",
   "metadata": {},
   "outputs": [],
   "source": [
    "nii_path = Path(\"ieeg_sources_resp0521_z.nii.gz\")\n",
    "save_nifti(zmap, affine, nii_path)\n",
    "print(\"Saved to\", nii_path)\n",
    "\n",
    "# Quick interactive view (Nilearn). Commented for headless servers.\n",
    "# plotting.view_img(nii_path, threshold=3).open_in_browser()\n"
   ]
  },
  {
   "cell_type": "markdown",
   "id": "21f0fd3c",
   "metadata": {},
   "source": [
    "## 4. Summary\n",
    "* We loaded a BIDS‑formatted OpenNeuro iEEG dataset.\n",
    "* Converted electrodes.tsv to a simple CSV.\n",
    "* Walked through every helper in the pipeline and produced a volumetric Z‑scored source map in MNI space.*"
   ]
  }
 ],
 "metadata": {
  "kernelspec": {
   "display_name": "nrimg",
   "language": "python",
   "name": "python3"
  },
  "language_info": {
   "codemirror_mode": {
    "name": "ipython",
    "version": 3
   },
   "file_extension": ".py",
   "mimetype": "text/x-python",
   "name": "python",
   "nbconvert_exporter": "python",
   "pygments_lexer": "ipython3",
   "version": "3.12.5"
  }
 },
 "nbformat": 4,
 "nbformat_minor": 5
}
