{
 "cells": [
  {
   "cell_type": "markdown",
   "id": "87970855",
   "metadata": {},
   "source": [
    "# iEEG Source‑Estimation Pipeline\n",
    "\n",
    "Walk‑through with **OpenNeuro dataset `ds003848` (subject `sub‑RESP0521`)**.\n",
    "\n",
    "This notebook demonstrates **each function** in the pipeline script you are working on. Run the cells sequentially; every step is self‑contained and heavily commented to make the logic clear."
   ]
  },
  {
   "cell_type": "markdown",
   "id": "b8bfde8f",
   "metadata": {},
   "source": [
    "## 0. Set‑up\n",
    "\n",
    "*If you are running this on Colab or a fresh environment, uncomment the next cell to install dependencies*."
   ]
  },
  {
   "cell_type": "code",
   "execution_count": null,
   "id": "fe2a7ae8",
   "metadata": {},
   "outputs": [],
   "source": [
    "# !pip install --quiet mne nibabel nilearn openneuro-py pandas numpy\n"
   ]
  },
  {
   "cell_type": "code",
   "execution_count": null,
   "id": "80bf8e36",
   "metadata": {},
   "outputs": [],
   "source": [
    "from pathlib import Path\n",
    "import pandas as pd\n",
    "import numpy as np\n",
    "import mne\n",
    "import nibabel as nib\n",
    "from nilearn import plotting\n",
    "\n",
    "# Make sure the pipeline script (patched version) is on PYTHONPATH or in same folder.\n",
    "# Here we assume it is saved as `ieeg_pipeline.py`\n",
    "from ieeg_pipeline import (\n",
    "    PipelineConfig,\n",
    "    load_raw,\n",
    "    load_electrodes,\n",
    "    set_montage_and_types,\n",
    "    make_subject_id,\n",
    "    build_forward_model,\n",
    "    create_evoked_or_epochs,\n",
    "    estimate_sources,\n",
    "    save_nifti,\n",
    ")\n",
    "\n",
    "print(\"MNE version:\", mne.__version__)\n"
   ]
  },
  {
   "cell_type": "markdown",
   "id": "8d417473",
   "metadata": {},
   "source": [
    "## 1. Download sample data from OpenNeuro\n",
    "\n",
    "We will grab **one session** (`ses‑1`) of `sub‑RESP0521`.\n",
    "Download only the iEEG recording (`.vhdr/.eeg/.vmrk`), the electrodes table, and the T1‑weighted MRI.\n",
    "\n",
    "If you already have these files locally, point `data_root` to that directory and skip the download."
   ]
  },
  {
   "cell_type": "code",
   "execution_count": null,
   "id": "09082e62",
   "metadata": {},
   "outputs": [],
   "source": [
    "from openneuro import download\n",
    "\n",
    "data_root = Path(\"data_openneuro\")\n",
    "if not data_root.exists():\n",
    "    data_root.mkdir()\n",
    "\n",
    "dataset_id = \"ds003848\"\n",
    "\n",
    "# Uncomment to download (~200 MB)\n",
    "# download(\n",
    "#     dataset=dataset_id,\n",
    "#     target_dir=data_root,\n",
    "#     include=[\n",
    "#         \"sub-RESP0521/ses-1/ieeg/*_ieeg.vhdr\",\n",
    "#         \"sub-RESP0521/ses-1/ieeg/*_ieeg.eeg\",\n",
    "#         \"sub-RESP0521/ses-1/ieeg/*_ieeg.vmrk\",\n",
    "#         \"sub-RESP0521/ses-1/ieeg/sub-RESP0521_ses-1_electrodes.tsv\",\n",
    "#         \"sub-RESP0521/anat/sub-RESP0521_T1w.nii.gz\",\n",
    "#     ],\n",
    "#     verbose=True,\n",
    "# )\n"
   ]
  },
  {
   "cell_type": "markdown",
   "id": "27a9bf35",
   "metadata": {},
   "source": [
    "### Define paths"
   ]
  },
  {
   "cell_type": "code",
   "execution_count": null,
   "id": "b39fda44",
   "metadata": {},
   "outputs": [],
   "source": [
    "sub = \"sub-RESP0521\"\n",
    "ses = \"ses-1\"\n",
    "ieeg_file = next((data_root / sub / ses / \"ieeg\").glob(\"*_ieeg.vhdr\"))\n",
    "electrodes_tsv = data_root / sub / ses / \"ieeg\" / f\"{sub}_{ses}_electrodes.tsv\"\n",
    "mri_path = data_root / sub / \"anat\" / f\"{sub}_T1w.nii.gz\"\n",
    "\n",
    "print(\"iEEG file :\", ieeg_file)\n",
    "print(\"Electrodes:\", electrodes_tsv)\n",
    "print(\"T1 MRI    :\", mri_path)\n"
   ]
  },
  {
   "cell_type": "markdown",
   "id": "1bff0116",
   "metadata": {},
   "source": [
    "## 2. Prepare electrodes CSV (x,y,z,name,type)\n",
    "The pipeline expects **comma‑separated** values with at least `x,y,z`."
   ]
  },
  {
   "cell_type": "code",
   "execution_count": null,
   "id": "a0fa4dec",
   "metadata": {},
   "outputs": [],
   "source": [
    "csv_path = electrodes_tsv.with_suffix('.csv')\n",
    "if not csv_path.exists():\n",
    "    df = pd.read_csv(electrodes_tsv, sep='\\t')\n",
    "    # Keep only good rows where x/y/z are finite\n",
    "    df_valid = df[np.isfinite(df['x']) & np.isfinite(df['y']) & np.isfinite(df['z'])]\n",
    "    cols = ['name', 'x', 'y', 'z']\n",
    "    if 'hemisphere' in df_valid.columns:\n",
    "        cols.append('hemisphere')  # example extra col\n",
    "    df_valid[cols].to_csv(csv_path, index=False)\n",
    "print(\"Saved CSV to\", csv_path)"
   ]
  },
  {
   "cell_type": "markdown",
   "id": "00924405",
   "metadata": {},
   "source": [
    "## 3. Create a `PipelineConfig`"
   ]
  },
  {
   "cell_type": "code",
   "execution_count": null,
   "id": "ad880c28",
   "metadata": {},
   "outputs": [],
   "source": [
    "cfg = PipelineConfig(\n",
    "    ieeg_path=ieeg_file,\n",
    "    electrodes_path=csv_path,\n",
    "    mri_path=mri_path,\n",
    "    subjects_dir=None,          # fall back to fsaverage + spherical head‑model\n",
    "    spacing_mm=6.0,\n",
    "    inverse_method=\"dSPM\",\n",
    "    snr=3.0,\n",
    "    time_window=(0, 30),        # first 30 s as example\n",
    "    coord_units=\"mm\",         # TSV provides mm\n",
    "    keep_time=False,\n",
    "    to_mni=True,                # morph to fsaverage/MNI\n",
    "    verbose=False,\n",
    ")\n",
    "cfg"
   ]
  },
  {
   "cell_type": "markdown",
   "id": "59cdbc60",
   "metadata": {},
   "source": [
    "### 3.1 `load_raw`"
   ]
  },
  {
   "cell_type": "code",
   "execution_count": null,
   "id": "8c5cf8fe",
   "metadata": {},
   "outputs": [],
   "source": [
    "raw = load_raw(cfg)\n",
    "print(raw)\n",
    "print(\"Data shape:\", raw.get_data().shape)"
   ]
  },
  {
   "cell_type": "markdown",
   "id": "7fc53537",
   "metadata": {},
   "source": [
    "### 3.2 `load_electrodes`"
   ]
  },
  {
   "cell_type": "code",
   "execution_count": null,
   "id": "f6bd83de",
   "metadata": {},
   "outputs": [],
   "source": [
    "coords, names, types = load_electrodes(cfg, n_channels=len(raw.ch_names))\n",
    "print(\"coords shape:\", coords.shape)\n",
    "print(\"first 5 coords (m):\\n\", coords[:5])\n",
    "print(\"sample names:\", names[:5])\n",
    "print(\"types counts:\", pd.Series(types).value_counts().to_dict())"
   ]
  },
  {
   "cell_type": "markdown",
   "id": "9481dbbc",
   "metadata": {},
   "source": [
    "### 3.3 `set_montage_and_types`"
   ]
  },
  {
   "cell_type": "code",
   "execution_count": null,
   "id": "225b91a4",
   "metadata": {},
   "outputs": [],
   "source": [
    "set_montage_and_types(raw, coords, names, types)\n",
    "print(\">> Montage set. Dig points:\", len(raw.info['dig']))"
   ]
  },
  {
   "cell_type": "markdown",
   "id": "588f06e3",
   "metadata": {},
   "source": [
    "### 3.4 `make_subject_id` & `build_forward_model`"
   ]
  },
  {
   "cell_type": "code",
   "execution_count": null,
   "id": "f4a6b4cb",
   "metadata": {},
   "outputs": [],
   "source": [
    "subject = make_subject_id(cfg)\n",
    "fwd, src = build_forward_model(cfg, raw, subject)\n",
    "print(f\"Subject inferred: {subject}\")\n",
    "print(f\"Forward solution with {fwd['nsource']} sources and {fwd['nchan']} channels.\")"
   ]
  },
  {
   "cell_type": "markdown",
   "id": "468d4c18",
   "metadata": {},
   "source": [
    "### 3.5 `create_evoked_or_epochs`"
   ]
  },
  {
   "cell_type": "code",
   "execution_count": null,
   "id": "a17d7663",
   "metadata": {},
   "outputs": [],
   "source": [
    "data_obj = create_evoked_or_epochs(raw, cfg)\n",
    "print(type(data_obj), data_obj)"
   ]
  },
  {
   "cell_type": "markdown",
   "id": "c75c41f4",
   "metadata": {},
   "source": [
    "### 3.6 `estimate_sources` (full pipeline wrapper)"
   ]
  },
  {
   "cell_type": "code",
   "execution_count": null,
   "id": "b088311a",
   "metadata": {},
   "outputs": [],
   "source": [
    "zmap, affine = estimate_sources(cfg)\n",
    "print(\"Z‑map shape:\", zmap.shape)"
   ]
  },
  {
   "cell_type": "markdown",
   "id": "1b3a6b4b",
   "metadata": {},
   "source": [
    "### 3.7 `save_nifti` & quick visualisation"
   ]
  },
  {
   "cell_type": "code",
   "execution_count": null,
   "id": "7954fe14",
   "metadata": {},
   "outputs": [],
   "source": [
    "nii_path = Path(\"ieeg_sources_resp0521_z.nii.gz\")\n",
    "save_nifti(zmap, affine, nii_path)\n",
    "print(\"Saved to\", nii_path)\n",
    "\n",
    "# Quick interactive view (Nilearn). Commented for headless servers.\n",
    "# plotting.view_img(nii_path, threshold=3).open_in_browser()\n"
   ]
  },
  {
   "cell_type": "markdown",
   "id": "21f0fd3c",
   "metadata": {},
   "source": [
    "## 4. Summary\n",
    "* We loaded a BIDS‑formatted OpenNeuro iEEG dataset.\n",
    "* Converted electrodes.tsv to a simple CSV.\n",
    "* Walked through every helper in the pipeline and produced a volumetric Z‑scored source map in MNI space.*"
   ]
  }
 ],
 "metadata": {},
 "nbformat": 4,
 "nbformat_minor": 5
}
